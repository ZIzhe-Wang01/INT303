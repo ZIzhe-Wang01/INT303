{
 "cells": [
  {
   "cell_type": "markdown",
   "metadata": {
    "slideshow": {
     "slide_type": "slide"
    }
   },
   "source": [
    "\n",
    "#  INT303 Big Data Analytics\n",
    "\n",
    "\n",
    "##  Lab 3 Scraping\n",
    "\n",
    "**XJTLU**<br>\n",
    "**S1 2021**<br>\n",
    "**Instructors:** Jia WANG <br>\n",
    "**Lab Instructor:** Jia WANG <br>\n",
    "**Authors:** Rahul Dave, David Sondak, Will Claybaugh and Pavlos Protopaps\n",
    "\n",
    "\n",
    "# Introduction\n",
    "As a data scientist, I often find myself looking for external data sources that could be relevant for my machine learning projects. The problem is that it is uncommon to find open source data sets that perfectly correspond to what you are looking for, or free APIs that give you access to data. In this case, web scraping can be one solution to get more data.\n",
    "\n",
    "\n",
    "\n",
    "### How can we get to those web pages?\n",
    "In order to answer those questions, we need to understand a little how websites work. Websites are created using HTML (Hypertext Markup Language), along with CSS (Cascading Style Sheets) and JavaScript. HTML elements are separated by tags and they directly introduce content to the web page. Here is what a basic HTML document looks like:"
   ]
  },
  {
   "cell_type": "code",
   "execution_count": 1,
   "metadata": {},
   "outputs": [],
   "source": [
    "from IPython.display import HTML\n",
    "import numpy as np\n",
    "import urllib.request\n",
    "import bs4 #this is beautiful soup\n",
    "import time\n",
    "#import operator\n",
    "#import socket\n",
    "#import cPickle\n",
    "import re # regular expressions\n",
    "from bs4 import BeautifulSoup\n",
    "import requests\n",
    "from pandas import Series\n",
    "import pandas as pd\n",
    "from pandas import DataFrame\n",
    "\n",
    "import matplotlib\n",
    "import matplotlib.pyplot as plt\n",
    "%matplotlib inline\n",
    "\n",
    "import seaborn as sns\n",
    "sns.set_context(\"talk\")\n",
    "sns.set_style(\"white\")"
   ]
  },
  {
   "cell_type": "markdown",
   "metadata": {
    "slideshow": {
     "slide_type": "slide"
    }
   },
   "source": [
    "Scraping with Python:\n",
    "=====================\n",
    "\n",
    "* scraping is all about HTML tags\n",
    "* bad news: \n",
    "    - need to learn about tags\n",
    "    - websites can be ugly"
   ]
  },
  {
   "cell_type": "markdown",
   "metadata": {
    "slideshow": {
     "slide_type": "slide"
    }
   },
   "source": [
    "HTML\n",
    "=====\n",
    "\n",
    "* HyperText Markup Language\n",
    "\n",
    "* standard for creating webpages\n",
    "\n",
    "* HTML tags \n",
    "    - have angle brackets\n",
    "    - typically come in pairs"
   ]
  },
  {
   "cell_type": "markdown",
   "metadata": {
    "slideshow": {
     "slide_type": "skip"
    }
   },
   "source": [
    "This is an example for a minimal webpage defined in HTML tags. The root tag is `<html>` and then you have the `<head>` tag. This part of the page typically includes the title of the page and might also have other meta information like the author or keywords that are important for search engines. The `<body>` tag marks the actual content of the page. You can play around with the `<h2>` tag trying different header levels. They range from 1 to 6. "
   ]
  },
  {
   "cell_type": "code",
   "execution_count": 2,
   "metadata": {
    "slideshow": {
     "slide_type": "slide"
    }
   },
   "outputs": [
    {
     "data": {
      "text/html": [
       "<!DOCTYPE html>\n",
       "<html>\n",
       "  <head>\n",
       "    <title>This is a title</title>\n",
       "  </head>\n",
       "  <body>\n",
       "    <h6> Test </h6>\n",
       "    <p>Hello world!</p>\n",
       "  </body>\n",
       "</html>"
      ],
      "text/plain": [
       "<IPython.core.display.HTML object>"
      ]
     },
     "execution_count": 2,
     "metadata": {},
     "output_type": "execute_result"
    }
   ],
   "source": [
    "htmlString = \"\"\"<!DOCTYPE html>\n",
    "<html>\n",
    "  <head>\n",
    "    <title>This is a title</title>\n",
    "  </head>\n",
    "  <body>\n",
    "    <h6> Test </h6>\n",
    "    <p>Hello world!</p>\n",
    "  </body>\n",
    "</html>\"\"\"\n",
    "\n",
    "htmlOutput = HTML(htmlString)\n",
    "htmlOutput"
   ]
  },
  {
   "cell_type": "markdown",
   "metadata": {
    "slideshow": {
     "slide_type": "slide"
    }
   },
   "source": [
    "Useful Tags\n",
    "===========\n",
    "\n",
    "* heading\n",
    "`<h1></h1> ... <h6></h6>`\n",
    "\n",
    "* paragraph\n",
    "`<p></p>` \n",
    "\n",
    "* line break\n",
    "`<br>` \n",
    "\n",
    "* link with attribute\n",
    "\n",
    "`<a href=\"http://www.example.com/\">An example link</a>`\n"
   ]
  },
  {
   "cell_type": "markdown",
   "metadata": {},
   "source": [
    "#  Warm-up: get the content of the main page\n",
    "First let’s use the requests module to get the HTML of the website’s main page.\n"
   ]
  },
  {
   "cell_type": "code",
   "execution_count": 4,
   "metadata": {},
   "outputs": [
    {
     "data": {
      "text/plain": [
       "'<!DOCTYPE html>\\n<!--[if lt IE 7]>      <html lang=\"en-us\" class=\"no-js lt-ie9 lt-ie8 lt-ie7\"> <![endif]-->\\n<!--[if IE 7]>         <html lang=\"en-us\" class=\"no-js lt-ie9 lt-ie8\"> <![endif]-->\\n<!--[if IE 8]>         <html lang=\"en-us\" class=\"no-js lt-ie9\"> <![endif]-->\\n<!--[if gt IE 8]><!--> <html lang=\"en-us\" class=\"no-js\"> <!--<![endif]-->\\n    <head>\\n        <title>\\n    All products | Books to Scrape - Sandbox\\n</title>\\n\\n        <meta http-equiv=\"content-type\" content=\"text/html; charset=UTF-8\" />\\n        <meta name=\"created\" content=\"24th Jun 2016 09:29\" />\\n        <meta name=\"description\" content=\"\" />\\n        <meta name=\"viewport\" content=\"width=device-width\" />\\n        <meta name=\"robots\" content=\"NOARCHIVE,NOCACHE\" />\\n\\n        <!-- Le HTML5 shim, for IE6-8 support of HTML elements -->\\n        <!--[if lt IE 9]>\\n        <script src=\"//html5shim.googlecode.com/svn/trunk/html5.js\"></script>\\n        <![endif]-->\\n\\n        \\n            <link rel=\"shortcut icon\" href=\"static/oscar/favicon.'"
      ]
     },
     "execution_count": 4,
     "metadata": {},
     "output_type": "execute_result"
    }
   ],
   "source": [
    "main_url = \"http://books.toscrape.com/index.html\"\n",
    "\n",
    "import requests\n",
    "result = requests.get(main_url)\n",
    "\n",
    "result.text[:1000]\n"
   ]
  },
  {
   "cell_type": "markdown",
   "metadata": {},
   "source": [
    "The result is quite messy! Let’s make this more readable:"
   ]
  },
  {
   "cell_type": "markdown",
   "metadata": {},
   "source": [
    "# Beautiful Soup\n",
    "\n",
    "\n",
    "* designed to make your life easier\n",
    "* many good functions for parsing html code"
   ]
  },
  {
   "cell_type": "code",
   "execution_count": 5,
   "metadata": {},
   "outputs": [
    {
     "name": "stdout",
     "output_type": "stream",
     "text": [
      "<!DOCTYPE html>\n",
      "<!--[if lt IE 7]>      <html lang=\"en-us\" class=\"no-js lt-ie9 lt-ie8 lt-ie7\"> <![endif]-->\n",
      "<!--[if IE 7]>         <html lang=\"en-us\" class=\"no-js lt-ie9 lt-ie8\"> <![endif]-->\n",
      "<!--[if IE 8]>         <html lang=\"en-us\" class=\"no-js lt-ie9\"> <![endif]-->\n",
      "<!--[if gt IE 8]><!-->\n",
      "<html class=\"no-js\" lang=\"en-us\">\n",
      " <!--<![endif]-->\n",
      " <head>\n",
      "  <title>\n",
      "   All products | Books to Scrape - Sandbox\n",
      "  </title>\n",
      "  <meta content=\"text/html; charset=utf-8\" http-equiv=\"content-type\"/>\n",
      "  <meta content=\"24th Jun 2016 09:29\" name=\"created\"/>\n",
      "  <meta content=\"\" name=\"description\"/>\n",
      "  <meta content=\"width=device-width\" name=\"viewport\"/>\n",
      "  <meta content=\"NOARCHIVE,NOCACHE\" name=\"robots\"/>\n",
      "  <!-- Le HTML5 shim, for IE6-8 support of HTML elements -->\n",
      "  <!--[if lt IE 9]>\n",
      "        <script src=\"//html5shim.googlecode.com/svn/trunk/html5.js\"></script>\n",
      "        <![endif]-->\n",
      "  <link href=\"static/oscar/favicon.ico\" rel=\"shortcut icon\"/>\n",
      "  <link href=\"static/oscar/css/styles.css\" rel=\"stylesheet\" type=\"tex\n"
     ]
    }
   ],
   "source": [
    "from bs4 import BeautifulSoup\n",
    "soup = BeautifulSoup(result.text, 'html.parser')\n",
    "print(soup.prettify()[:1000])"
   ]
  },
  {
   "cell_type": "markdown",
   "metadata": {},
   "source": [
    "## Find book URLs on the main page\n",
    "Now let’s start to dive deeper into the subject. In order to get the book data, we need to be able to access their product page. The first step consist in finding the URL of every book product page.\n",
    "In your browser, go onto the website main page, right-click on the name of a product and click on inspect. This will show you the HTML part of the web page corresponding to this element. Congratulations, you have found the first book link!\n",
    "\n",
    "Note the structure of the HTML code:\n",
    "\n",
    "![avatar](12.png)\n",
    "\n",
    "BeautifulSoup enables us to find those special ‘article’ tags. We can wall the find() function in order to find the first occurence of this tag in the HTML:\n",
    "\n",
    "\n",
    "\n"
   ]
  },
  {
   "cell_type": "code",
   "execution_count": 8,
   "metadata": {},
   "outputs": [],
   "source": [
    "res=soup.find(\"article\", class_ = \"product_pod\")"
   ]
  },
  {
   "cell_type": "markdown",
   "metadata": {},
   "source": [
    "We still have too much information.\n",
    "Let's dive deeper in the tree by adding the other child tags:\n"
   ]
  },
  {
   "cell_type": "code",
   "execution_count": 6,
   "metadata": {},
   "outputs": [
    {
     "data": {
      "text/plain": [
       "'catalogue/a-light-in-the-attic_1000/index.html'"
      ]
     },
     "execution_count": 6,
     "metadata": {},
     "output_type": "execute_result"
    }
   ],
   "source": [
    "soup.find(\"article\", class_ = \"product_pod\").div.a['href']"
   ]
  },
  {
   "cell_type": "markdown",
   "metadata": {},
   "source": [
    "## Now let’s gather all the products URLs on the main web page at once using the findAll() function:"
   ]
  },
  {
   "cell_type": "code",
   "execution_count": 7,
   "metadata": {},
   "outputs": [],
   "source": [
    "main_page_products_urls = [x.div.a['href'] for x in soup.findAll(\"article\", class_ = \"product_pod\")]"
   ]
  },
  {
   "cell_type": "code",
   "execution_count": 8,
   "metadata": {},
   "outputs": [
    {
     "data": {
      "text/plain": [
       "['catalogue/a-light-in-the-attic_1000/index.html',\n",
       " 'catalogue/tipping-the-velvet_999/index.html',\n",
       " 'catalogue/soumission_998/index.html',\n",
       " 'catalogue/sharp-objects_997/index.html',\n",
       " 'catalogue/sapiens-a-brief-history-of-humankind_996/index.html',\n",
       " 'catalogue/the-requiem-red_995/index.html',\n",
       " 'catalogue/the-dirty-little-secrets-of-getting-your-dream-job_994/index.html',\n",
       " 'catalogue/the-coming-woman-a-novel-based-on-the-life-of-the-infamous-feminist-victoria-woodhull_993/index.html',\n",
       " 'catalogue/the-boys-in-the-boat-nine-americans-and-their-epic-quest-for-gold-at-the-1936-berlin-olympics_992/index.html',\n",
       " 'catalogue/the-black-maria_991/index.html',\n",
       " 'catalogue/starving-hearts-triangular-trade-trilogy-1_990/index.html',\n",
       " 'catalogue/shakespeares-sonnets_989/index.html',\n",
       " 'catalogue/set-me-free_988/index.html',\n",
       " 'catalogue/scott-pilgrims-precious-little-life-scott-pilgrim-1_987/index.html',\n",
       " 'catalogue/rip-it-up-and-start-again_986/index.html',\n",
       " 'catalogue/our-band-could-be-your-life-scenes-from-the-american-indie-underground-1981-1991_985/index.html',\n",
       " 'catalogue/olio_984/index.html',\n",
       " 'catalogue/mesaerion-the-best-science-fiction-stories-1800-1849_983/index.html',\n",
       " 'catalogue/libertarianism-for-beginners_982/index.html',\n",
       " 'catalogue/its-only-the-himalayas_981/index.html']"
      ]
     },
     "execution_count": 8,
     "metadata": {},
     "output_type": "execute_result"
    }
   ],
   "source": [
    "main_page_products_urls"
   ]
  },
  {
   "cell_type": "markdown",
   "metadata": {},
   "source": [
    "This function is very handy for finding all the values at once, but you have to check that all the information collected is relevant. Sometimes one same tag can contain completely different data. \n",
    "\n",
    "That is why it is important to be as specific as possible when choosing the tags.\n",
    "\n",
    "Here we decided to rely on the tag ‘article’ with the ‘product_pod’ class because this seems to be a very specific tag and it is unlikely that we can find data other than product data in it."
   ]
  },
  {
   "cell_type": "markdown",
   "metadata": {
    "slideshow": {
     "slide_type": "skip"
    }
   },
   "source": [
    "The following cell just defines a url as a string and then reads the data from that url using the `urllib` library. If you uncomment the print command you see that we got the whole HTML content of the page into the string variable source."
   ]
  },
  {
   "cell_type": "markdown",
   "metadata": {
    "slideshow": {
     "slide_type": "slide"
    }
   },
   "source": [
    "## More detials\n"
   ]
  },
  {
   "cell_type": "code",
   "execution_count": 10,
   "metadata": {},
   "outputs": [
    {
     "data": {
      "text/plain": [
       "['index.html',\n",
       " 'index.html',\n",
       " 'catalogue/category/books_1/index.html',\n",
       " 'catalogue/category/books/travel_2/index.html',\n",
       " 'catalogue/category/books/mystery_3/index.html',\n",
       " 'catalogue/category/books/historical-fiction_4/index.html',\n",
       " 'catalogue/category/books/sequential-art_5/index.html',\n",
       " 'catalogue/category/books/classics_6/index.html',\n",
       " 'catalogue/category/books/philosophy_7/index.html',\n",
       " 'catalogue/category/books/romance_8/index.html',\n",
       " 'catalogue/category/books/womens-fiction_9/index.html',\n",
       " 'catalogue/category/books/fiction_10/index.html',\n",
       " 'catalogue/category/books/childrens_11/index.html',\n",
       " 'catalogue/category/books/religion_12/index.html',\n",
       " 'catalogue/category/books/nonfiction_13/index.html',\n",
       " 'catalogue/category/books/music_14/index.html',\n",
       " 'catalogue/category/books/default_15/index.html',\n",
       " 'catalogue/category/books/science-fiction_16/index.html',\n",
       " 'catalogue/category/books/sports-and-games_17/index.html',\n",
       " 'catalogue/category/books/add-a-comment_18/index.html',\n",
       " 'catalogue/category/books/fantasy_19/index.html',\n",
       " 'catalogue/category/books/new-adult_20/index.html',\n",
       " 'catalogue/category/books/young-adult_21/index.html',\n",
       " 'catalogue/category/books/science_22/index.html',\n",
       " 'catalogue/category/books/poetry_23/index.html',\n",
       " 'catalogue/category/books/paranormal_24/index.html',\n",
       " 'catalogue/category/books/art_25/index.html',\n",
       " 'catalogue/category/books/psychology_26/index.html',\n",
       " 'catalogue/category/books/autobiography_27/index.html',\n",
       " 'catalogue/category/books/parenting_28/index.html',\n",
       " 'catalogue/category/books/adult-fiction_29/index.html',\n",
       " 'catalogue/category/books/humor_30/index.html',\n",
       " 'catalogue/category/books/horror_31/index.html',\n",
       " 'catalogue/category/books/history_32/index.html',\n",
       " 'catalogue/category/books/food-and-drink_33/index.html',\n",
       " 'catalogue/category/books/christian-fiction_34/index.html',\n",
       " 'catalogue/category/books/business_35/index.html',\n",
       " 'catalogue/category/books/biography_36/index.html',\n",
       " 'catalogue/category/books/thriller_37/index.html',\n",
       " 'catalogue/category/books/contemporary_38/index.html',\n",
       " 'catalogue/category/books/spirituality_39/index.html',\n",
       " 'catalogue/category/books/academic_40/index.html',\n",
       " 'catalogue/category/books/self-help_41/index.html',\n",
       " 'catalogue/category/books/historical_42/index.html',\n",
       " 'catalogue/category/books/christian_43/index.html',\n",
       " 'catalogue/category/books/suspense_44/index.html',\n",
       " 'catalogue/category/books/short-stories_45/index.html',\n",
       " 'catalogue/category/books/novels_46/index.html',\n",
       " 'catalogue/category/books/health_47/index.html',\n",
       " 'catalogue/category/books/politics_48/index.html',\n",
       " 'catalogue/category/books/cultural_49/index.html',\n",
       " 'catalogue/category/books/erotica_50/index.html',\n",
       " 'catalogue/category/books/crime_51/index.html',\n",
       " 'catalogue/a-light-in-the-attic_1000/index.html',\n",
       " 'catalogue/a-light-in-the-attic_1000/index.html',\n",
       " 'catalogue/tipping-the-velvet_999/index.html',\n",
       " 'catalogue/tipping-the-velvet_999/index.html',\n",
       " 'catalogue/soumission_998/index.html',\n",
       " 'catalogue/soumission_998/index.html',\n",
       " 'catalogue/sharp-objects_997/index.html',\n",
       " 'catalogue/sharp-objects_997/index.html',\n",
       " 'catalogue/sapiens-a-brief-history-of-humankind_996/index.html',\n",
       " 'catalogue/sapiens-a-brief-history-of-humankind_996/index.html',\n",
       " 'catalogue/the-requiem-red_995/index.html',\n",
       " 'catalogue/the-requiem-red_995/index.html',\n",
       " 'catalogue/the-dirty-little-secrets-of-getting-your-dream-job_994/index.html',\n",
       " 'catalogue/the-dirty-little-secrets-of-getting-your-dream-job_994/index.html',\n",
       " 'catalogue/the-coming-woman-a-novel-based-on-the-life-of-the-infamous-feminist-victoria-woodhull_993/index.html',\n",
       " 'catalogue/the-coming-woman-a-novel-based-on-the-life-of-the-infamous-feminist-victoria-woodhull_993/index.html',\n",
       " 'catalogue/the-boys-in-the-boat-nine-americans-and-their-epic-quest-for-gold-at-the-1936-berlin-olympics_992/index.html',\n",
       " 'catalogue/the-boys-in-the-boat-nine-americans-and-their-epic-quest-for-gold-at-the-1936-berlin-olympics_992/index.html',\n",
       " 'catalogue/the-black-maria_991/index.html',\n",
       " 'catalogue/the-black-maria_991/index.html',\n",
       " 'catalogue/starving-hearts-triangular-trade-trilogy-1_990/index.html',\n",
       " 'catalogue/starving-hearts-triangular-trade-trilogy-1_990/index.html',\n",
       " 'catalogue/shakespeares-sonnets_989/index.html',\n",
       " 'catalogue/shakespeares-sonnets_989/index.html',\n",
       " 'catalogue/set-me-free_988/index.html',\n",
       " 'catalogue/set-me-free_988/index.html',\n",
       " 'catalogue/scott-pilgrims-precious-little-life-scott-pilgrim-1_987/index.html',\n",
       " 'catalogue/scott-pilgrims-precious-little-life-scott-pilgrim-1_987/index.html',\n",
       " 'catalogue/rip-it-up-and-start-again_986/index.html',\n",
       " 'catalogue/rip-it-up-and-start-again_986/index.html',\n",
       " 'catalogue/our-band-could-be-your-life-scenes-from-the-american-indie-underground-1981-1991_985/index.html',\n",
       " 'catalogue/our-band-could-be-your-life-scenes-from-the-american-indie-underground-1981-1991_985/index.html',\n",
       " 'catalogue/olio_984/index.html',\n",
       " 'catalogue/olio_984/index.html',\n",
       " 'catalogue/mesaerion-the-best-science-fiction-stories-1800-1849_983/index.html',\n",
       " 'catalogue/mesaerion-the-best-science-fiction-stories-1800-1849_983/index.html',\n",
       " 'catalogue/libertarianism-for-beginners_982/index.html',\n",
       " 'catalogue/libertarianism-for-beginners_982/index.html',\n",
       " 'catalogue/its-only-the-himalayas_981/index.html',\n",
       " 'catalogue/its-only-the-himalayas_981/index.html',\n",
       " 'catalogue/page-2.html']"
      ]
     },
     "execution_count": 10,
     "metadata": {},
     "output_type": "execute_result"
    }
   ],
   "source": [
    "main_url = \"http://books.toscrape.com/index.html\"\n",
    "result = requests.get(main_url)\n",
    "soup = BeautifulSoup(result.text, 'html.parser')\n",
    "first_tag = soup.find('a')\n",
    "## get attribute `href`\n",
    "first_tag.get('href')\n",
    "## get all links in the page\n",
    "link_list = [l.get('href') for l in soup.findAll('a')]\n",
    "link_list"
   ]
  },
  {
   "cell_type": "code",
   "execution_count": 11,
   "metadata": {
    "slideshow": {
     "slide_type": "slide"
    }
   },
   "outputs": [],
   "source": [
    "# create an empty list to collect the valid links\n",
    "external_links = []\n",
    "\n",
    "# write a loop to filter the links\n",
    "# if it starts with 'http' we are happy\n",
    "for l in link_list: #main_page_products_urls\n",
    "    if l[:4] == 'http':\n",
    "        l.startswith('http')\n",
    "        external_links.append(l)\n",
    "\n",
    "# this throws an error! It says something about 'NoneType'"
   ]
  },
  {
   "cell_type": "code",
   "execution_count": 12,
   "metadata": {
    "slideshow": {
     "slide_type": "slide"
    }
   },
   "outputs": [],
   "source": [
    "# Let's filter those objects out in the for loop\n",
    "external_links = []\n",
    "\n",
    "# write a loop to filter the links\n",
    "# if it is not None and starts with 'http' we are happy\n",
    "for l in link_list:\n",
    "    if l is not None and l[:4] == 'http':\n",
    "        l.startswith('http')\n",
    "        external_links.append(l)\n",
    "        \n"
   ]
  },
  {
   "cell_type": "markdown",
   "metadata": {
    "slideshow": {
     "slide_type": "skip"
    }
   },
   "source": [
    "Note: The above `if` condition works because of lazy evaluation in Python. The `and` statement becomes `False` if the first part is `False`, so there is no need to ever evaluate the second part. Thus a `None` entry in the list gets never asked about its first four characters. "
   ]
  },
  {
   "cell_type": "code",
   "execution_count": 13,
   "metadata": {
    "slideshow": {
     "slide_type": "slide"
    }
   },
   "outputs": [],
   "source": [
    "# and we can put this in a list comprehension as well, it almost reads like \n",
    "# a sentence.\n",
    "\n",
    "res=[l for l in link_list if l is not None and l.startswith('http')]"
   ]
  },
  {
   "cell_type": "markdown",
   "metadata": {},
   "source": [
    "# Python Tips\n",
    "\n",
    "`tmp` now is actually a list of lists containing the hall of fame entries. \n",
    "Here is some advanced Python on how to print really just one entry per list item.\n",
    "\n",
    "The cool things about this are: \n",
    "* The use of `\"\"` to just access the `join` function of strings.\n",
    "* The `join` function itself\n",
    "* that you can actually have two nested for loops in a list comprehension"
   ]
  },
  {
   "cell_type": "code",
   "execution_count": 21,
   "metadata": {
    "slideshow": {
     "slide_type": "slide"
    }
   },
   "outputs": [
    {
     "data": {
      "text/plain": [
       "['as', 'bs', 'cs']"
      ]
     },
     "execution_count": 21,
     "metadata": {},
     "output_type": "execute_result"
    }
   ],
   "source": [
    "## reformat into a list containing strings\n",
    "exp1=[\"a\",\"b\",\"c\"]\n",
    "exp2 = []\n",
    "for li in exp1:\n",
    "    exp2.append(li+\"s\")\n",
    "exp2    "
   ]
  },
  {
   "cell_type": "code",
   "execution_count": 22,
   "metadata": {
    "slideshow": {
     "slide_type": "-"
    }
   },
   "outputs": [
    {
     "data": {
      "text/plain": [
       "'tssessssst'"
      ]
     },
     "execution_count": 22,
     "metadata": {},
     "output_type": "execute_result"
    }
   ],
   "source": [
    "\"ss\".join(\"test\")\n"
   ]
  },
  {
   "cell_type": "markdown",
   "metadata": {
    "collapsed": true
   },
   "source": [
    "#  Sum up the above as a function \n",
    "\n"
   ]
  },
  {
   "cell_type": "code",
   "execution_count": 14,
   "metadata": {},
   "outputs": [],
   "source": [
    "def getAndParseURL(url):\n",
    "    result = requests.get(url)\n",
    "    soup = BeautifulSoup(result.text, 'html.parser')\n",
    "    return(soup)\n",
    "\n",
    "def getBooksURLs(url):\n",
    "    soup = getAndParseURL(url)\n",
    "    # remove the index.html part of the base url before returning the results\n",
    "    return([\"http://books.toscrape.com/\" + x.a.get('href') for x in soup.findAll( \"div\", class_=\"image_container\")])\n",
    "\n"
   ]
  },
  {
   "cell_type": "markdown",
   "metadata": {},
   "source": [
    "# Let’s do it!"
   ]
  },
  {
   "cell_type": "code",
   "execution_count": 15,
   "metadata": {},
   "outputs": [],
   "source": [
    "url = \"http://books.toscrape.com/index.html\"\n",
    "booksURLs=getBooksURLs(url)"
   ]
  },
  {
   "cell_type": "code",
   "execution_count": 16,
   "metadata": {},
   "outputs": [
    {
     "data": {
      "text/plain": [
       "['http://books.toscrape.com/catalogue/a-light-in-the-attic_1000/index.html',\n",
       " 'http://books.toscrape.com/catalogue/tipping-the-velvet_999/index.html',\n",
       " 'http://books.toscrape.com/catalogue/soumission_998/index.html',\n",
       " 'http://books.toscrape.com/catalogue/sharp-objects_997/index.html',\n",
       " 'http://books.toscrape.com/catalogue/sapiens-a-brief-history-of-humankind_996/index.html',\n",
       " 'http://books.toscrape.com/catalogue/the-requiem-red_995/index.html',\n",
       " 'http://books.toscrape.com/catalogue/the-dirty-little-secrets-of-getting-your-dream-job_994/index.html',\n",
       " 'http://books.toscrape.com/catalogue/the-coming-woman-a-novel-based-on-the-life-of-the-infamous-feminist-victoria-woodhull_993/index.html',\n",
       " 'http://books.toscrape.com/catalogue/the-boys-in-the-boat-nine-americans-and-their-epic-quest-for-gold-at-the-1936-berlin-olympics_992/index.html',\n",
       " 'http://books.toscrape.com/catalogue/the-black-maria_991/index.html',\n",
       " 'http://books.toscrape.com/catalogue/starving-hearts-triangular-trade-trilogy-1_990/index.html',\n",
       " 'http://books.toscrape.com/catalogue/shakespeares-sonnets_989/index.html',\n",
       " 'http://books.toscrape.com/catalogue/set-me-free_988/index.html',\n",
       " 'http://books.toscrape.com/catalogue/scott-pilgrims-precious-little-life-scott-pilgrim-1_987/index.html',\n",
       " 'http://books.toscrape.com/catalogue/rip-it-up-and-start-again_986/index.html',\n",
       " 'http://books.toscrape.com/catalogue/our-band-could-be-your-life-scenes-from-the-american-indie-underground-1981-1991_985/index.html',\n",
       " 'http://books.toscrape.com/catalogue/olio_984/index.html',\n",
       " 'http://books.toscrape.com/catalogue/mesaerion-the-best-science-fiction-stories-1800-1849_983/index.html',\n",
       " 'http://books.toscrape.com/catalogue/libertarianism-for-beginners_982/index.html',\n",
       " 'http://books.toscrape.com/catalogue/its-only-the-himalayas_981/index.html']"
      ]
     },
     "execution_count": 16,
     "metadata": {},
     "output_type": "execute_result"
    }
   ],
   "source": [
    "booksURLs"
   ]
  },
  {
   "cell_type": "code",
   "execution_count": 17,
   "metadata": {},
   "outputs": [
    {
     "data": {
      "text/plain": [
       "'\\n\\n    \\n        In stock\\n    \\n'"
      ]
     },
     "execution_count": 17,
     "metadata": {},
     "output_type": "execute_result"
    }
   ],
   "source": [
    "soup.findAll(\"p\")[-1].text"
   ]
  },
  {
   "cell_type": "code",
   "execution_count": 19,
   "metadata": {},
   "outputs": [],
   "source": [
    "names = []\n",
    "prices = []\n",
    "nb_in_stock = []\n",
    "img_urls = []\n",
    "categories = []\n",
    "ratings = []\n",
    "\n",
    "# scrape data for every book URL: this may take some time\n",
    "for url in booksURLs:\n",
    "    time.sleep(1)\n",
    "    soup = getAndParseURL(url)\n",
    "    # product name\n",
    "\n",
    "    # product price\n",
    "    prices.append(soup.find(\"p\", class_ = \"price_color\").text[2:]) # get rid of the pound sign\n",
    "    # number of available products\n",
    "    nb_in_stock.append(re.sub(\"[^0-9]\", \"\", soup.find(\"p\", class_ = \"instock availability\").text)) # get rid of non numerical characters\n",
    "    # image url\n",
    "    img_urls.append(url.replace(\"index.html\", \"\") + soup.find(\"img\").get(\"src\"))\n",
    "    # product category\n",
    "    categories.append(soup.find(\"a\", href = re.compile(\"../category/books/\")).get(\"href\").split(\"/\")[3])\n",
    "    # ratings\n",
    "\n",
    "    \n",
    "# add data into pandas df\n",
    "import pandas as pd\n",
    "\n",
    "scraped_data = pd.DataFrame({'price': prices, 'nb_in_stock': nb_in_stock, \"url_img\": img_urls, \"product_category\": categories})\n"
   ]
  },
  {
   "cell_type": "code",
   "execution_count": 20,
   "metadata": {},
   "outputs": [
    {
     "data": {
      "text/html": [
       "<div>\n",
       "<style scoped>\n",
       "    .dataframe tbody tr th:only-of-type {\n",
       "        vertical-align: middle;\n",
       "    }\n",
       "\n",
       "    .dataframe tbody tr th {\n",
       "        vertical-align: top;\n",
       "    }\n",
       "\n",
       "    .dataframe thead th {\n",
       "        text-align: right;\n",
       "    }\n",
       "</style>\n",
       "<table border=\"1\" class=\"dataframe\">\n",
       "  <thead>\n",
       "    <tr style=\"text-align: right;\">\n",
       "      <th></th>\n",
       "      <th>price</th>\n",
       "      <th>nb_in_stock</th>\n",
       "      <th>url_img</th>\n",
       "      <th>product_category</th>\n",
       "    </tr>\n",
       "  </thead>\n",
       "  <tbody>\n",
       "    <tr>\n",
       "      <th>0</th>\n",
       "      <td>51.77</td>\n",
       "      <td>22</td>\n",
       "      <td>http://books.toscrape.com/catalogue/a-light-in...</td>\n",
       "      <td>poetry_23</td>\n",
       "    </tr>\n",
       "    <tr>\n",
       "      <th>1</th>\n",
       "      <td>53.74</td>\n",
       "      <td>20</td>\n",
       "      <td>http://books.toscrape.com/catalogue/tipping-th...</td>\n",
       "      <td>historical-fiction_4</td>\n",
       "    </tr>\n",
       "    <tr>\n",
       "      <th>2</th>\n",
       "      <td>50.10</td>\n",
       "      <td>20</td>\n",
       "      <td>http://books.toscrape.com/catalogue/soumission...</td>\n",
       "      <td>fiction_10</td>\n",
       "    </tr>\n",
       "    <tr>\n",
       "      <th>3</th>\n",
       "      <td>47.82</td>\n",
       "      <td>20</td>\n",
       "      <td>http://books.toscrape.com/catalogue/sharp-obje...</td>\n",
       "      <td>mystery_3</td>\n",
       "    </tr>\n",
       "    <tr>\n",
       "      <th>4</th>\n",
       "      <td>54.23</td>\n",
       "      <td>20</td>\n",
       "      <td>http://books.toscrape.com/catalogue/sapiens-a-...</td>\n",
       "      <td>history_32</td>\n",
       "    </tr>\n",
       "    <tr>\n",
       "      <th>5</th>\n",
       "      <td>22.65</td>\n",
       "      <td>19</td>\n",
       "      <td>http://books.toscrape.com/catalogue/the-requie...</td>\n",
       "      <td>young-adult_21</td>\n",
       "    </tr>\n",
       "    <tr>\n",
       "      <th>6</th>\n",
       "      <td>33.34</td>\n",
       "      <td>19</td>\n",
       "      <td>http://books.toscrape.com/catalogue/the-dirty-...</td>\n",
       "      <td>business_35</td>\n",
       "    </tr>\n",
       "    <tr>\n",
       "      <th>7</th>\n",
       "      <td>17.93</td>\n",
       "      <td>19</td>\n",
       "      <td>http://books.toscrape.com/catalogue/the-coming...</td>\n",
       "      <td>default_15</td>\n",
       "    </tr>\n",
       "    <tr>\n",
       "      <th>8</th>\n",
       "      <td>22.60</td>\n",
       "      <td>19</td>\n",
       "      <td>http://books.toscrape.com/catalogue/the-boys-i...</td>\n",
       "      <td>default_15</td>\n",
       "    </tr>\n",
       "    <tr>\n",
       "      <th>9</th>\n",
       "      <td>52.15</td>\n",
       "      <td>19</td>\n",
       "      <td>http://books.toscrape.com/catalogue/the-black-...</td>\n",
       "      <td>poetry_23</td>\n",
       "    </tr>\n",
       "  </tbody>\n",
       "</table>\n",
       "</div>"
      ],
      "text/plain": [
       "   price nb_in_stock                                            url_img  \\\n",
       "0  51.77          22  http://books.toscrape.com/catalogue/a-light-in...   \n",
       "1  53.74          20  http://books.toscrape.com/catalogue/tipping-th...   \n",
       "2  50.10          20  http://books.toscrape.com/catalogue/soumission...   \n",
       "3  47.82          20  http://books.toscrape.com/catalogue/sharp-obje...   \n",
       "4  54.23          20  http://books.toscrape.com/catalogue/sapiens-a-...   \n",
       "5  22.65          19  http://books.toscrape.com/catalogue/the-requie...   \n",
       "6  33.34          19  http://books.toscrape.com/catalogue/the-dirty-...   \n",
       "7  17.93          19  http://books.toscrape.com/catalogue/the-coming...   \n",
       "8  22.60          19  http://books.toscrape.com/catalogue/the-boys-i...   \n",
       "9  52.15          19  http://books.toscrape.com/catalogue/the-black-...   \n",
       "\n",
       "       product_category  \n",
       "0             poetry_23  \n",
       "1  historical-fiction_4  \n",
       "2            fiction_10  \n",
       "3             mystery_3  \n",
       "4            history_32  \n",
       "5        young-adult_21  \n",
       "6           business_35  \n",
       "7            default_15  \n",
       "8            default_15  \n",
       "9             poetry_23  "
      ]
     },
     "execution_count": 20,
     "metadata": {},
     "output_type": "execute_result"
    }
   ],
   "source": [
    "scraped_data.head(10)"
   ]
  },
  {
   "cell_type": "code",
   "execution_count": null,
   "metadata": {},
   "outputs": [],
   "source": []
  }
 ],
 "metadata": {
  "celltoolbar": "Slideshow",
  "kernelspec": {
   "display_name": "Python 2",
   "language": "python",
   "name": "python2"
  },
  "language_info": {
   "codemirror_mode": {
    "name": "ipython",
    "version": 3
   },
   "file_extension": ".py",
   "mimetype": "text/x-python",
   "name": "python",
   "nbconvert_exporter": "python",
   "pygments_lexer": "ipython3",
   "version": "3.7.4"
  }
 },
 "nbformat": 4,
 "nbformat_minor": 1
}
