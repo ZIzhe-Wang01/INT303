{
 "cells": [
  {
   "cell_type": "code",
   "execution_count": 4,
   "metadata": {},
   "outputs": [],
   "source": [
    "import requests\n",
    "req=requests.get(\"https://en.wikipedia.org/wiki/Harvard_University\")\n",
    "req.text"
   ]
  },
  {
   "cell_type": "code",
   "execution_count": 1,
   "metadata": {},
   "outputs": [],
   "source": [
    "import requests\n",
    "from bs4 import BeautifulSoup\n",
    "\n",
    "URL = \"https://realpython.github.io/fake-jobs/\"\n",
    "page = requests.get(URL)\n",
    "\n",
    "soup = BeautifulSoup(page.content, \"html.parser\")"
   ]
  },
  {
   "cell_type": "code",
   "execution_count": null,
   "metadata": {},
   "outputs": [],
   "source": [
    "soup"
   ]
  },
  {
   "cell_type": "code",
   "execution_count": 5,
   "metadata": {},
   "outputs": [],
   "source": [
    "results = soup.find(id=\"ResultsContainer\")"
   ]
  },
  {
   "cell_type": "code",
   "execution_count": 17,
   "metadata": {},
   "outputs": [],
   "source": [
    "#print(results.prettify())"
   ]
  },
  {
   "cell_type": "code",
   "execution_count": 15,
   "metadata": {},
   "outputs": [],
   "source": [
    "job_elements = results.find_all(\"div\", class_=\"card-content\")"
   ]
  },
  {
   "cell_type": "code",
   "execution_count": 12,
   "metadata": {},
   "outputs": [],
   "source": [
    "job_element = results.find(\"div\", class_=\"card-content\")"
   ]
  },
  {
   "cell_type": "code",
   "execution_count": 20,
   "metadata": {},
   "outputs": [],
   "source": [
    "for job_element in job_elements:\n",
    "    pass\n",
    "    #print(job_element, end=\"\\n\"*2)"
   ]
  },
  {
   "cell_type": "code",
   "execution_count": 60,
   "metadata": {},
   "outputs": [],
   "source": [
    "for job_element in job_elements:\n",
    "    title_element = job_element.find(\"h2\", class_=\"title\")\n",
    "    company_element = job_element.find(\"h3\", class_=\"company\")\n",
    "    location_element = job_element.find(\"p\", class_=\"location\")\n",
    "    #print(title_element)\n",
    "    #print(company_element)\n",
    "    #print(location_element)\n",
    "    #print()"
   ]
  },
  {
   "cell_type": "code",
   "execution_count": 62,
   "metadata": {},
   "outputs": [],
   "source": [
    "for job_element in job_elements:\n",
    "    title_element = job_element.find(\"h2\", class_=\"title\")\n",
    "    company_element = job_element.find(\"h3\", class_=\"company\")\n",
    "    location_element = job_element.find(\"p\", class_=\"location\")\n",
    "    #print(title_element.text)\n",
    "    #print(company_element.text)\n",
    "    #print(location_element.text)\n",
    "    #print()"
   ]
  },
  {
   "cell_type": "code",
   "execution_count": 63,
   "metadata": {},
   "outputs": [],
   "source": [
    "for job_element in job_elements:\n",
    "    title_element = job_element.find(\"h2\", class_=\"title\")\n",
    "    company_element = job_element.find(\"h3\", class_=\"company\")\n",
    "    location_element = job_element.find(\"p\", class_=\"location\")\n",
    "    #print(title_element.text.strip())\n",
    "    #print(company_element.text.strip())\n",
    "    #print(location_element.text.strip())\n",
    "    #print()"
   ]
  },
  {
   "cell_type": "code",
   "execution_count": 46,
   "metadata": {},
   "outputs": [],
   "source": [
    "python_jobs = results.find_all(\"h2\", string=\"python\")"
   ]
  },
  {
   "cell_type": "code",
   "execution_count": 32,
   "metadata": {},
   "outputs": [],
   "source": [
    "python_jobs = results.find_all(\n",
    "    \"h2\", string=lambda text: \"python\" in text.lower()\n",
    ")"
   ]
  },
  {
   "cell_type": "code",
   "execution_count": 47,
   "metadata": {},
   "outputs": [
    {
     "data": {
      "text/plain": [
       "0"
      ]
     },
     "execution_count": 47,
     "metadata": {},
     "output_type": "execute_result"
    }
   ],
   "source": [
    "len(python_jobs)"
   ]
  },
  {
   "cell_type": "code",
   "execution_count": 67,
   "metadata": {},
   "outputs": [],
   "source": [
    "python_jobs = results.find_all(\"h2\", string=\"Legal executive\")\n",
    "\n",
    "python_job_elements = [\n",
    "    h2_element.parent.parent.parent for h2_element in python_jobs\n",
    "]"
   ]
  },
  {
   "cell_type": "code",
   "execution_count": 68,
   "metadata": {},
   "outputs": [
    {
     "data": {
      "text/plain": [
       "[<div class=\"card-content\">\n",
       " <div class=\"media\">\n",
       " <div class=\"media-left\">\n",
       " <figure class=\"image is-48x48\">\n",
       " <img alt=\"Real Python Logo\" src=\"https://files.realpython.com/media/real-python-logo-thumbnail.7f0db70c2ed2.jpg?__no_cf_polish=1\"/>\n",
       " </figure>\n",
       " </div>\n",
       " <div class=\"media-content\">\n",
       " <h2 class=\"title is-5\">Legal executive</h2>\n",
       " <h3 class=\"subtitle is-6 company\">Jackson, Chambers and Levy</h3>\n",
       " </div>\n",
       " </div>\n",
       " <div class=\"content\">\n",
       " <p class=\"location\">\n",
       "         Port Ericaburgh, AA\n",
       "       </p>\n",
       " <p class=\"is-small has-text-grey\">\n",
       " <time datetime=\"2021-04-08\">2021-04-08</time>\n",
       " </p>\n",
       " </div>\n",
       " <footer class=\"card-footer\">\n",
       " <a class=\"card-footer-item\" href=\"https://www.realpython.com\" target=\"_blank\">Learn</a>\n",
       " <a class=\"card-footer-item\" href=\"https://realpython.github.io/fake-jobs/jobs/legal-executive-2.html\" target=\"_blank\">Apply</a>\n",
       " </footer>\n",
       " </div>,\n",
       " <div class=\"card-content\">\n",
       " <div class=\"media\">\n",
       " <div class=\"media-left\">\n",
       " <figure class=\"image is-48x48\">\n",
       " <img alt=\"Real Python Logo\" src=\"https://files.realpython.com/media/real-python-logo-thumbnail.7f0db70c2ed2.jpg?__no_cf_polish=1\"/>\n",
       " </figure>\n",
       " </div>\n",
       " <div class=\"media-content\">\n",
       " <h2 class=\"title is-5\">Legal executive</h2>\n",
       " <h3 class=\"subtitle is-6 company\">Hartman PLC</h3>\n",
       " </div>\n",
       " </div>\n",
       " <div class=\"content\">\n",
       " <p class=\"location\">\n",
       "         West Ericstad, AA\n",
       "       </p>\n",
       " <p class=\"is-small has-text-grey\">\n",
       " <time datetime=\"2021-04-08\">2021-04-08</time>\n",
       " </p>\n",
       " </div>\n",
       " <footer class=\"card-footer\">\n",
       " <a class=\"card-footer-item\" href=\"https://www.realpython.com\" target=\"_blank\">Learn</a>\n",
       " <a class=\"card-footer-item\" href=\"https://realpython.github.io/fake-jobs/jobs/legal-executive-92.html\" target=\"_blank\">Apply</a>\n",
       " </footer>\n",
       " </div>]"
      ]
     },
     "execution_count": 68,
     "metadata": {},
     "output_type": "execute_result"
    }
   ],
   "source": [
    "python_job_elements"
   ]
  },
  {
   "cell_type": "code",
   "execution_count": 69,
   "metadata": {},
   "outputs": [
    {
     "name": "stdout",
     "output_type": "stream",
     "text": [
      "Apply here: https://www.realpython.com\n",
      "\n",
      "Apply here: https://realpython.github.io/fake-jobs/jobs/legal-executive-2.html\n",
      "\n",
      "Apply here: https://www.realpython.com\n",
      "\n",
      "Apply here: https://realpython.github.io/fake-jobs/jobs/legal-executive-92.html\n",
      "\n"
     ]
    }
   ],
   "source": [
    "for job_element in python_job_elements:\n",
    "    # -- snip --\n",
    "    links = job_element.find_all(\"a\")\n",
    "    for link in links:\n",
    "        link_url = link[\"href\"]\n",
    "        print(f\"Apply here: {link_url}\\n\")"
   ]
  },
  {
   "cell_type": "code",
   "execution_count": 70,
   "metadata": {},
   "outputs": [
    {
     "name": "stdout",
     "output_type": "stream",
     "text": [
      "Apply here: https://realpython.github.io/fake-jobs/jobs/legal-executive-2.html\n",
      "\n",
      "Apply here: https://realpython.github.io/fake-jobs/jobs/legal-executive-92.html\n",
      "\n"
     ]
    }
   ],
   "source": [
    "for job_element in python_job_elements:\n",
    "    link_url = job_element.find_all(\"a\")[1][\"href\"]\n",
    "    print(f\"Apply here: {link_url}\\n\")"
   ]
  },
  {
   "cell_type": "code",
   "execution_count": null,
   "metadata": {},
   "outputs": [],
   "source": []
  }
 ],
 "metadata": {
  "kernelspec": {
   "display_name": "Python 3",
   "language": "python",
   "name": "python3"
  },
  "language_info": {
   "codemirror_mode": {
    "name": "ipython",
    "version": 3
   },
   "file_extension": ".py",
   "mimetype": "text/x-python",
   "name": "python",
   "nbconvert_exporter": "python",
   "pygments_lexer": "ipython3",
   "version": "3.8.5"
  }
 },
 "nbformat": 4,
 "nbformat_minor": 5
}
